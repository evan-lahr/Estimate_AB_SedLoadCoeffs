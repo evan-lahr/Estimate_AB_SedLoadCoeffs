{
 "cells": [
  {
   "cell_type": "markdown",
   "id": "9b64ddbf-34c8-4fc3-857d-3bf351db3f3b",
   "metadata": {},
   "source": [
    "# Code to estimate sediment load from river metrics\n",
    "#### Equations from Syvitski et al., 2000"
   ]
  },
  {
   "cell_type": "code",
   "execution_count": 38,
   "id": "7b184538-7ef8-452c-849a-554dbe3c77a8",
   "metadata": {
    "tags": []
   },
   "outputs": [
    {
     "data": {
      "text/plain": [
       "'\\nestimate sediment rating curve coefficients a and b\\nusing basin morphology and temperature\\nfrom Syvitski et al., 2000\\n'"
      ]
     },
     "execution_count": 38,
     "metadata": {},
     "output_type": "execute_result"
    }
   ],
   "source": [
    "'''\n",
    "estimate sediment rating curve coefficients a and b\n",
    "using basin morphology and temperature\n",
    "from Syvitski et al., 2000\n",
    "'''"
   ]
  },
  {
   "cell_type": "code",
   "execution_count": 40,
   "id": "5d78bd1e-ba31-4113-9588-0e2e857175fd",
   "metadata": {
    "tags": []
   },
   "outputs": [
    {
     "name": "stdout",
     "output_type": "stream",
     "text": [
      "a4 published    0.000025\n",
      "a4 computed     2.38e-05\n",
      "b4 published    1.099\n",
      "b4 computed     1.091\n"
     ]
    }
   ],
   "source": [
    "import numpy as np\n",
    "import pandas as pd\n",
    "\n",
    "\n",
    "#- - - define constants for Garronne River - - - - - - - - - - - - - - - - - - -\n",
    "Q_w =  650.0   #m3/s,  River discharge \n",
    "T   =  13.0    #deg C, Mean annual air temperature\n",
    "R   =  3308.0  #m,     River basin relief, meters (Elev_headwaters - Elev_guagestn)\n",
    "α = 0.00002  #nondim?, defined below eq. 8\n",
    "H = R        #m, basin relief, should be same as R above\n",
    "A = 53100    #km^2, basin area\n",
    "#- - - - - - - - - - - - - - - - - - - - - - - - - - - - - - - - - - - - - - - -\n",
    "\n",
    "\n",
    "Q_s_LongTermAvg = α * (H**(3/2)) * (A**(1/2))\n",
    "\n",
    "#- - - compute coefficients a,b for Garronne River - - - - - - - - - - - - - - -\n",
    "def estimate_a4(Q_w, T, R):\n",
    "    #eq. a4 in Table 3 \n",
    "    a4 = 10 ** (-0.16 - 1.46*np.log10(Q_w) - 0.00032*R + 0.054*T)\n",
    "    return a4\n",
    "\n",
    "#- - - compute coefficients a,b for Garronne River - - - - - - - - - - - - - - -\n",
    "def estimate_b4(Q_s, T, R):\n",
    "    #eq. b4 in Table 3 \n",
    "    b4 = 0.76 - 0.025*T + 0.00013*R + 0.15*np.log10(Q_s)\n",
    "    return b4\n",
    "\n",
    "\n",
    "\n",
    "\n",
    "a4 = estimate_a4(Q_w, T, R)\n",
    "b4 = estimate_b4(Q_s, T, R)\n",
    "\n",
    "#- - - print output, compare - - - - - - - - - - - - - - - - - - - - - - - - - - - \n",
    "print('a4 published    0.000025')\n",
    "print('a4 computed    ',np.round(a4,8))\n",
    "print('b4 published    1.099')\n",
    "print('b4 computed    ',np.round(b4,3))"
   ]
  },
  {
   "cell_type": "code",
   "execution_count": 43,
   "id": "2a58b772-2977-447b-9056-d60e313f2e4a",
   "metadata": {
    "tags": []
   },
   "outputs": [
    {
     "name": "stdout",
     "output_type": "stream",
     "text": [
      "a4 columbia is  3.919970491670449e-06\n",
      "b4 columbia is  1.0276952460006645\n"
     ]
    }
   ],
   "source": [
    "#- - - compute coefficients a,b for Columbia River - - - - - - - - - - - - - - - - - - -\n",
    "secondsperyear = 31540000.0\n",
    "kgpermetricton = 1000.0\n",
    "\n",
    "Q_w =  6300   #m3/s River discharge at Beaver, quoted from Naik & Jay 2011\n",
    "Q_s =  (20e6 * kgpermetricton)/secondsperyear #kg/s, River sediment load from Naik & Jay 2011\n",
    "T =    10.0   #degrees C, mean annual air temperature\n",
    "R =    823-74   #meters, River basin relief, meters (Elev_headwaters - Elev_guagestation) (822.96-74)\n",
    "\n",
    "a4 = estimate_a4(Q_w,T,R)\n",
    "b4 = estimate_b4(Q_s,T,R)\n",
    "print('a4 columbia is ',a4)\n",
    "print('b4 columbia is ',b4)"
   ]
  },
  {
   "cell_type": "code",
   "execution_count": null,
   "id": "150e8ea2-297c-494c-80a6-d023fb9e0bfd",
   "metadata": {},
   "outputs": [],
   "source": []
  }
 ],
 "metadata": {
  "kernelspec": {
   "display_name": "Python 3 (ipykernel)",
   "language": "python",
   "name": "python3"
  },
  "language_info": {
   "codemirror_mode": {
    "name": "ipython",
    "version": 3
   },
   "file_extension": ".py",
   "mimetype": "text/x-python",
   "name": "python",
   "nbconvert_exporter": "python",
   "pygments_lexer": "ipython3",
   "version": "3.11.4"
  }
 },
 "nbformat": 4,
 "nbformat_minor": 5
}
